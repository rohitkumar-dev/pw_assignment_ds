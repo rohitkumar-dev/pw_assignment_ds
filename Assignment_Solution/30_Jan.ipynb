{
 "cells": [
  {
   "cell_type": "markdown",
   "metadata": {},
   "source": [
    "## 28 Jan assignment solution"
   ]
  },
  {
   "cell_type": "markdown",
   "metadata": {},
   "source": [
    "Sure, here are the answers to the questions based on the image you provided:\n",
    "\n",
    "1. Who developed Python Programming Language?\n",
    "   - Python was developed by Guido van Rossum.\n",
    "\n",
    "2. Which type of Programming does Python support?\n",
    "   - Python supports multiple programming paradigms, including procedural, object-oriented, and functional programming.\n",
    "\n",
    "3. Is Python case sensitive when dealing with identifiers?\n",
    "   - Yes, Python is case sensitive when dealing with identifiers.\n",
    "\n",
    "4. What is the correct extension of the Python file?\n",
    "   - The correct extension of a Python file is `.py`.\n",
    "\n",
    "5. Is Python code compiled or interpreted?\n",
    "   - Python code is interpreted.\n",
    "\n",
    "6. Name a few blocks of code used to define in Python language?\n",
    "   - In Python, blocks of code are defined using indentation. Some common blocks include:\n",
    "     - Functions (`def`)\n",
    "     - Classes (`class`)\n",
    "     - Loops (`for`, `while`)\n",
    "     - Conditional statements (`if`, `elif`, `else`)\n",
    "\n",
    "7. State a character used to give single-line comments in Python?\n",
    "   - The `#` character is used to give single-line comments in Python.\n",
    "\n",
    "8. Mention functions which can help us to find the version of python that we are currently working on?\n",
    "   - You can use the `sys.version` or `platform.python_version()` functions to find the version of Python you are currently working on.\n",
    "\n",
    "9. Python supports the creation of anonymous functions at runtime, using a construct called ___________.\n",
    "   - Python supports the creation of anonymous functions at runtime using a construct called `lambda`.\n",
    "\n",
    "10. What does pip stand for python?\n",
    "    - `pip` stands for \"Pip Installs Packages\".\n",
    "\n",
    "11. Mention a few built-in functions in python?\n",
    "    - Some built-in functions in Python include `print()`, `len()`, `type()`, `range()`, `input()`, and `str()`.\n",
    "\n",
    "12. What is the maximum possible length of an identifier in Python?\n",
    "    - There is no explicit limit on the length of an identifier in Python, but it is recommended to keep it manageable for readability.\n",
    "\n",
    "13. What are the benefits of using Python?\n",
    "    - Some benefits of using Python include:\n",
    "      - Easy to read and write\n",
    "      - Extensive standard library\n",
    "      - Large and active community\n",
    "      - Cross-platform compatibility\n",
    "      - Supports multiple programming paradigms\n",
    "      - Good for prototyping and rapid development\n",
    "\n",
    "14. How is memory managed in Python?\n",
    "    - Python manages memory using a private heap containing all Python objects and data structures. The management of this private heap is ensured internally by the Python memory manager. Python also has an in-built garbage collector to recycle unused memory.\n",
    "\n",
    "15. How to install Python on Windows and set path variables?\n",
    "    - To install Python on Windows:\n",
    "      1. Download the installer from the official Python website.\n",
    "      2. Run the installer and follow the prompts. Make sure to check the box that says \"Add Python to PATH\".\n",
    "      3. After installation, verify the installation by opening a command prompt and typing `python --version`.\n",
    "\n",
    "16. Is indentation required in python?\n",
    "    - Yes, indentation is required in Python to define the structure and scope of blocks of code."
   ]
  },
  {
   "cell_type": "markdown",
   "metadata": {},
   "source": []
  }
 ],
 "metadata": {
  "language_info": {
   "name": "python"
  }
 },
 "nbformat": 4,
 "nbformat_minor": 2
}
